{
 "cells": [
  {
   "cell_type": "markdown",
   "metadata": {},
   "source": [
    "# Simon Fraser University - Mechatronic Systems Engineering\n",
    "## Spring 2021 - MSE491 - Application of Machine Learning in Mechatronic Systems\n",
    "## Instructor: Dr. Mohammad Narimani\n",
    "\n",
    "## Lab 1 - Regression\n",
    "### @author: Amin Kabir - kabir@sfu.ca\n"
   ]
  },
  {
   "cell_type": "code",
   "execution_count": 32,
   "metadata": {},
   "outputs": [],
   "source": [
    "# Load General Libraries\n",
    "import numpy as np\n",
    "import pandas as pd\n",
    "import pickle\n",
    "import matplotlib.pyplot as plt"
   ]
  },
  {
   "cell_type": "code",
   "execution_count": 33,
   "metadata": {},
   "outputs": [],
   "source": [
    "# Importing the dataset\n",
    "dataset = pd.read_csv('house_price.csv', header=0)"
   ]
  },
  {
   "cell_type": "code",
   "execution_count": 34,
   "metadata": {},
   "outputs": [
    {
     "data": {
      "text/html": [
       "<div>\n",
       "<style scoped>\n",
       "    .dataframe tbody tr th:only-of-type {\n",
       "        vertical-align: middle;\n",
       "    }\n",
       "\n",
       "    .dataframe tbody tr th {\n",
       "        vertical-align: top;\n",
       "    }\n",
       "\n",
       "    .dataframe thead th {\n",
       "        text-align: right;\n",
       "    }\n",
       "</style>\n",
       "<table border=\"1\" class=\"dataframe\">\n",
       "  <thead>\n",
       "    <tr style=\"text-align: right;\">\n",
       "      <th></th>\n",
       "      <th>MSSubClass</th>\n",
       "      <th>MSZoning</th>\n",
       "      <th>LotFrontage</th>\n",
       "      <th>LotArea</th>\n",
       "      <th>Street</th>\n",
       "      <th>Alley</th>\n",
       "      <th>LotShape</th>\n",
       "      <th>LandContour</th>\n",
       "      <th>Utilities</th>\n",
       "      <th>LotConfig</th>\n",
       "      <th>...</th>\n",
       "      <th>PoolArea</th>\n",
       "      <th>PoolQC</th>\n",
       "      <th>Fence</th>\n",
       "      <th>MiscFeature</th>\n",
       "      <th>MiscVal</th>\n",
       "      <th>MoSold</th>\n",
       "      <th>YrSold</th>\n",
       "      <th>SaleType</th>\n",
       "      <th>SaleCondition</th>\n",
       "      <th>SalePrice</th>\n",
       "    </tr>\n",
       "  </thead>\n",
       "  <tbody>\n",
       "    <tr>\n",
       "      <th>505</th>\n",
       "      <td>90</td>\n",
       "      <td>RM</td>\n",
       "      <td>60.0</td>\n",
       "      <td>7596</td>\n",
       "      <td>Pave</td>\n",
       "      <td>Grvl</td>\n",
       "      <td>Reg</td>\n",
       "      <td>Lvl</td>\n",
       "      <td>AllPub</td>\n",
       "      <td>Inside</td>\n",
       "      <td>...</td>\n",
       "      <td>0</td>\n",
       "      <td>NaN</td>\n",
       "      <td>NaN</td>\n",
       "      <td>NaN</td>\n",
       "      <td>0</td>\n",
       "      <td>7</td>\n",
       "      <td>2009</td>\n",
       "      <td>COD</td>\n",
       "      <td>Normal</td>\n",
       "      <td>124500</td>\n",
       "    </tr>\n",
       "  </tbody>\n",
       "</table>\n",
       "<p>1 rows × 80 columns</p>\n",
       "</div>"
      ],
      "text/plain": [
       "     MSSubClass MSZoning  LotFrontage  LotArea Street Alley LotShape  \\\n",
       "505          90       RM         60.0     7596   Pave  Grvl      Reg   \n",
       "\n",
       "    LandContour Utilities LotConfig  ... PoolArea PoolQC Fence MiscFeature  \\\n",
       "505         Lvl    AllPub    Inside  ...        0    NaN   NaN         NaN   \n",
       "\n",
       "    MiscVal MoSold  YrSold  SaleType  SaleCondition  SalePrice  \n",
       "505       0      7    2009       COD         Normal     124500  \n",
       "\n",
       "[1 rows x 80 columns]"
      ]
     },
     "execution_count": 34,
     "metadata": {},
     "output_type": "execute_result"
    }
   ],
   "source": [
    "# Print one row randomly\n",
    "dataset.sample()"
   ]
  },
  {
   "cell_type": "code",
   "execution_count": 35,
   "metadata": {},
   "outputs": [],
   "source": [
    "# Split features and targets - X: Features, y: Targets\n",
    "X = dataset.iloc[:, :-1]\n",
    "y = dataset.iloc[:, -1].values"
   ]
  },
  {
   "cell_type": "markdown",
   "metadata": {},
   "source": [
    "### Preprocessing Features"
   ]
  },
  {
   "cell_type": "code",
   "execution_count": 36,
   "metadata": {},
   "outputs": [],
   "source": [
    "# Handling categorical features\n",
    "from sklearn.preprocessing import LabelEncoder\n",
    "labelencoder_X = LabelEncoder()\n",
    "cols = X.columns\n",
    "num_cols = X._get_numeric_data().columns\n",
    "categorical_cols = list(set(cols) - set(num_cols))\n",
    "X.loc[:,categorical_cols] = X.loc[:,categorical_cols].astype(str)\n",
    "for cat_col in categorical_cols:\n",
    "    ind_cat = X.columns.get_loc(cat_col)\n",
    "    X.iloc[:,ind_cat] = labelencoder_X.fit_transform(X.iloc[:,ind_cat])\n",
    "\n",
    "# Create our imputer to replace missing values with the mean\n",
    "from sklearn.impute import SimpleImputer\n",
    "imp = SimpleImputer(missing_values=np.nan, strategy='mean')\n",
    "imp = imp.fit(X)\n",
    "X = imp.transform(X)"
   ]
  },
  {
   "cell_type": "code",
   "execution_count": 51,
   "metadata": {},
   "outputs": [
    {
     "data": {
      "text/plain": [
       "array([9.000e+01, 4.000e+00, 6.000e+01, 7.596e+03, 1.000e+00, 0.000e+00,\n",
       "       3.000e+00, 3.000e+00, 0.000e+00, 4.000e+00, 0.000e+00, 1.700e+01,\n",
       "       0.000e+00, 2.000e+00, 2.000e+00, 5.000e+00, 5.000e+00, 5.000e+00,\n",
       "       1.952e+03, 1.952e+03, 3.000e+00, 1.000e+00, 1.300e+01, 1.400e+01,\n",
       "       1.000e+00, 3.600e+02, 3.000e+00, 4.000e+00, 1.000e+00, 3.000e+00,\n",
       "       3.000e+00, 3.000e+00, 5.000e+00, 0.000e+00, 5.000e+00, 0.000e+00,\n",
       "       9.600e+02, 9.600e+02, 1.000e+00, 2.000e+00, 1.000e+00, 4.000e+00,\n",
       "       9.600e+02, 1.000e+03, 0.000e+00, 1.960e+03, 0.000e+00, 0.000e+00,\n",
       "       2.000e+00, 0.000e+00, 4.000e+00, 2.000e+00, 3.000e+00, 1.000e+01,\n",
       "       6.000e+00, 0.000e+00, 5.000e+00, 5.000e+00, 1.952e+03, 2.000e+00,\n",
       "       2.000e+00, 4.000e+02, 4.000e+00, 4.000e+00, 0.000e+00, 0.000e+00,\n",
       "       0.000e+00, 0.000e+00, 0.000e+00, 0.000e+00, 0.000e+00, 3.000e+00,\n",
       "       4.000e+00, 4.000e+00, 0.000e+00, 7.000e+00, 2.009e+03, 0.000e+00,\n",
       "       4.000e+00])"
      ]
     },
     "execution_count": 51,
     "metadata": {},
     "output_type": "execute_result"
    }
   ],
   "source": [
    "# Print one row randomly\n",
    "random_indices = np.random.choice(X.shape[0], size=1, replace=False)\n",
    "#X[random_indices, :]\n",
    "X[505, :]"
   ]
  },
  {
   "cell_type": "code",
   "execution_count": 38,
   "metadata": {},
   "outputs": [],
   "source": [
    "# Splitting the dataset into the Training set and Test set\n",
    "from sklearn.model_selection import train_test_split \n",
    "X_train, X_test, y_train, y_test = train_test_split(X, y, test_size=0.2, random_state=0)\n",
    "\n",
    "# Save Test Set\n",
    "np.savetxt(\"features_house_test.csv\", X_test, delimiter=\",\")\n",
    "np.savetxt(\"targets_house_test.csv\", y_test, delimiter=\",\")"
   ]
  },
  {
   "cell_type": "markdown",
   "metadata": {},
   "source": [
    "### Simple Linear Regression"
   ]
  },
  {
   "cell_type": "code",
   "execution_count": 39,
   "metadata": {},
   "outputs": [],
   "source": [
    "# Fitting Linear Regression to the dataset\n",
    "from sklearn.linear_model import LinearRegression\n",
    "simp_lin_reg = LinearRegression()"
   ]
  },
  {
   "cell_type": "code",
   "execution_count": 40,
   "metadata": {},
   "outputs": [
    {
     "data": {
      "text/plain": [
       "LinearRegression(copy_X=True, fit_intercept=True, n_jobs=None, normalize=False)"
      ]
     },
     "execution_count": 40,
     "metadata": {},
     "output_type": "execute_result"
    }
   ],
   "source": [
    "### Simple Linear Regression\n",
    "# Only using one feature: \"Above grade (ground) living area square feet\"\n",
    "X1_train = X_train[:,45]\n",
    "X1_train = X1_train.reshape(-1, 1)\n",
    "X1_test = X_test[:,45]\n",
    "X1_test = X1_test.reshape(-1, 1)\n",
    "simp_lin_reg.fit(X1_train, y_train)"
   ]
  },
  {
   "cell_type": "code",
   "execution_count": 41,
   "metadata": {},
   "outputs": [
    {
     "data": {
      "image/png": "[encoded data removed]",
      "text/plain": [
       "<Figure size 432x288 with 1 Axes>"
      ]
     },
     "metadata": {
      "needs_background": "light"
     },
     "output_type": "display_data"
    }
   ],
   "source": [
    "# Visualizing the Linear Regression results\n",
    "def viz_linear():\n",
    "    plt.scatter(X1_train, y_train, color='red')\n",
    "    plt.plot(X1_train, simp_lin_reg.predict(X1_train), color='blue')\n",
    "    plt.title('Linear Regression')\n",
    "    plt.xlabel('Above grade (ground) living area square feet')\n",
    "    plt.ylabel('The property sale price in dollars')\n",
    "    plt.show()\n",
    "    return\n",
    "plt.figure()\n",
    "viz_linear()"
   ]
  },
  {
   "cell_type": "code",
   "execution_count": 42,
   "metadata": {},
   "outputs": [
    {
     "name": "stdout",
     "output_type": "stream",
     "text": [
      "Predicted sale price for sample 4:   133738\n",
      "True sale price for sample 4:        88000\n"
     ]
    }
   ],
   "source": [
    "# Predicting a random new result \n",
    "import random\n",
    "R_test = random.randrange(len(X_test))\n",
    "Random_Test = X1_test[R_test].reshape(-1, 1)\n",
    "\n",
    "# Predicting a new result with Linear Regression\n",
    "y_pred1 = simp_lin_reg.predict(Random_Test)\n",
    "print('Predicted sale price for sample %d:   %d' %(R_test,y_pred1))\n",
    "print('True sale price for sample %d:        %d' %(R_test,y_test[R_test]))"
   ]
  },
  {
   "cell_type": "code",
   "execution_count": 43,
   "metadata": {},
   "outputs": [
    {
     "name": "stdout",
     "output_type": "stream",
     "text": [
      "\n",
      "Simple Linear Regression - R-Squared: 0.433264\n"
     ]
    }
   ],
   "source": [
    "# Evaluation\n",
    "from sklearn.metrics import r2_score\n",
    "y_pred = simp_lin_reg.predict(X1_test).astype('int64')\n",
    "lin_reg_r2 = r2_score(y_test, y_pred)\n",
    "print('\\nSimple Linear Regression - R-Squared: %f' %lin_reg_r2)"
   ]
  },
  {
   "cell_type": "markdown",
   "metadata": {},
   "source": [
    "### Polynomial Regression"
   ]
  },
  {
   "cell_type": "code",
   "execution_count": 44,
   "metadata": {},
   "outputs": [],
   "source": [
    "#%% Polynomial Regression with 1 Feature for visualization\n",
    "import random\n",
    "from sklearn import preprocessing\n",
    "from sklearn.pipeline import make_pipeline\n",
    "from sklearn.preprocessing import PolynomialFeatures\n",
    "\n",
    "def viz_polymonial():\n",
    "    plt.scatter(Xpv_train, ypv_train, color='red')\n",
    "    plt.plot(Xpv_train, poly_pred, color='blue')\n",
    "    plt.title('Polymonial Regression with 1 Feature for visualization')\n",
    "    plt.xlabel('Linear feet of street connected to property')\n",
    "    plt.ylabel('The property sale price in dollars')\n",
    "    plt.show()\n",
    "    return"
   ]
  },
  {
   "cell_type": "code",
   "execution_count": 45,
   "metadata": {},
   "outputs": [
    {
     "data": {
      "image/png": "[encoded data removed]",
      "text/plain": [
       "<Figure size 432x288 with 1 Axes>"
      ]
     },
     "metadata": {
      "needs_background": "light"
     },
     "output_type": "display_data"
    }
   ],
   "source": [
    "# Try with polynomial of degree 3\n",
    "degree = 3\n",
    "\n",
    "# 1 feature (Linear feet of street connected to property)\n",
    "# with 20 random samples for visualization\n",
    "Rp = random.sample(range(0,X_train.shape[0]),20)\n",
    "ypv_train = y_train[Rp]\n",
    "Xpv_train = X_train[Rp,2]\n",
    "Xpv_train = Xpv_train.reshape(-1, 1)\n",
    "\n",
    "# Standardizing features by removing the mean and scaling to unit variance\n",
    "scaler = preprocessing.StandardScaler()\n",
    "### Polynomial Regression - using one feature with 20 samples\n",
    "polyreg_scaled = make_pipeline(PolynomialFeatures(degree),scaler,LinearRegression())\n",
    "polyreg_scaled.fit(Xpv_train,ypv_train)\n",
    "\n",
    "# Visualizing the Polymonial Regression results\n",
    "poly_pred = polyreg_scaled.predict(Xpv_train)\n",
    "zipped_pred = zip(Xpv_train, poly_pred)\n",
    "sorted_pred = sorted(zipped_pred)\n",
    "tuples = zip(*sorted_pred)\n",
    "Xpv_train, poly_pred = [list(tuple) for tuple in tuples]\n",
    "\n",
    "plt.figure()\n",
    "viz_polymonial()"
   ]
  },
  {
   "cell_type": "code",
   "execution_count": 46,
   "metadata": {},
   "outputs": [
    {
     "data": {
      "image/png": "[encoded data removed]",
      "text/plain": [
       "<Figure size 432x288 with 1 Axes>"
      ]
     },
     "metadata": {
      "needs_background": "light"
     },
     "output_type": "display_data"
    }
   ],
   "source": [
    "# Try with a different polynomial degree (overfitting)\n",
    "degree = 10\n",
    "\n",
    "# 1 feature (Linear feet of street connected to property)\n",
    "# with 20 random samples for visualization\n",
    "Rp = random.sample(range(0,X_train.shape[0]),20)\n",
    "ypv_train = y_train[Rp]\n",
    "Xpv_train = X_train[Rp,2]\n",
    "Xpv_train = Xpv_train.reshape(-1, 1)\n",
    "\n",
    "# Standardizing features by removing the mean and scaling to unit variance\n",
    "scaler = preprocessing.StandardScaler()\n",
    "### Polynomial Regression - using one feature with 20 samples\n",
    "polyreg_scaled = make_pipeline(PolynomialFeatures(degree),scaler,LinearRegression())\n",
    "polyreg_scaled.fit(Xpv_train,ypv_train)\n",
    "\n",
    "# Visualizing the Polymonial Regression results\n",
    "poly_pred = polyreg_scaled.predict(Xpv_train)\n",
    "zipped_pred = zip(Xpv_train, poly_pred)\n",
    "sorted_pred = sorted(zipped_pred)\n",
    "tuples = zip(*sorted_pred)\n",
    "Xpv_train, poly_pred = [list(tuple) for tuple in tuples]\n",
    "\n",
    "plt.figure()\n",
    "viz_polymonial()"
   ]
  },
  {
   "cell_type": "markdown",
   "metadata": {},
   "source": [
    "### Multiple Linear Regression"
   ]
  },
  {
   "cell_type": "code",
   "execution_count": 47,
   "metadata": {},
   "outputs": [],
   "source": [
    "### Multiple Linear Regression - using 10 randome features\n",
    "import random\n",
    "R10 = random.sample(range(0,X.shape[1]),10)\n",
    "X10_train = X_train[:,R10]\n",
    "X10_test = X_test[:,R10]\n",
    "mult_lin_reg10 = LinearRegression()\n",
    "mult_lin_reg10.fit(X10_train, y_train)\n",
    "\n",
    "### Multiple Linear Regression - using all features\n",
    "mult_lin_reg = LinearRegression()\n",
    "mult_lin_reg.fit(X_train, y_train)\n",
    "# Save Model\n",
    "pickle.dump(mult_lin_reg, open('Model_MLR.pkl', 'wb'))"
   ]
  },
  {
   "cell_type": "code",
   "execution_count": 48,
   "metadata": {},
   "outputs": [
    {
     "name": "stdout",
     "output_type": "stream",
     "text": [
      "\n",
      "Multiple Linear Regression using 10 randome features - R-Squared: 0.483302\n",
      "\n",
      "Multiple Linear Regression using all features - R-Squared: 0.558798\n"
     ]
    }
   ],
   "source": [
    "# Evaluation\n",
    "from sklearn.metrics import r2_score\n",
    "y_pred10 = mult_lin_reg10.predict(X10_test).astype('int64')\n",
    "lin_reg_r2_10 = r2_score(y_test, y_pred10)\n",
    "print('\\nMultiple Linear Regression using 10 randome features - R-Squared: %f' %lin_reg_r2_10)\n",
    "\n",
    "y_pred = mult_lin_reg.predict(X_test).astype('int64')\n",
    "lin_reg_r2 = r2_score(y_test, y_pred)\n",
    "print('\\nMultiple Linear Regression using all features - R-Squared: %f' %lin_reg_r2)"
   ]
  },
  {
   "cell_type": "markdown",
   "metadata": {},
   "source": [
    "### Decision Tree Regressor"
   ]
  },
  {
   "cell_type": "code",
   "execution_count": 49,
   "metadata": {},
   "outputs": [
    {
     "name": "stdout",
     "output_type": "stream",
     "text": [
      "\n",
      "Decision Tree Regression - R-Squared: 0.558798\n"
     ]
    }
   ],
   "source": [
    "from sklearn.tree import DecisionTreeRegressor\n",
    "dt_reg = DecisionTreeRegressor()\n",
    "dt_reg.fit(X_train, y_train)\n",
    "# Save Model\n",
    "pickle.dump(dt_reg, open('Model_DT.pkl', 'wb'))\n",
    "# Evaluation\n",
    "from sklearn.metrics import r2_score\n",
    "y_pred = mult_lin_reg.predict(X_test).astype('int64')\n",
    "dt_reg_r2 = r2_score(y_test, y_pred)\n",
    "print('\\nDecision Tree Regression - R-Squared: %f' %dt_reg_r2)"
   ]
  },
  {
   "cell_type": "markdown",
   "metadata": {},
   "source": [
    "### K-Nearest Neighbors Regressor"
   ]
  },
  {
   "cell_type": "code",
   "execution_count": 50,
   "metadata": {},
   "outputs": [
    {
     "name": "stdout",
     "output_type": "stream",
     "text": [
      "\n",
      "K-Nearest Neighbors Regression - R-Squared: 0.627151\n"
     ]
    }
   ],
   "source": [
    "from sklearn.neighbors import KNeighborsRegressor\n",
    "knn_reg = KNeighborsRegressor(n_neighbors=5)\n",
    "knn_reg.fit(X_train, y_train)\n",
    "# Save Model\n",
    "pickle.dump(knn_reg, open('Model_KNN.pkl', 'wb'))\n",
    "# Evaluation\n",
    "from sklearn.metrics import r2_score\n",
    "y_pred = knn_reg.predict(X_test).astype('int64')\n",
    "knn_reg_r2 = r2_score(y_test, y_pred)\n",
    "print('\\nK-Nearest Neighbors Regression - R-Squared: %f' %knn_reg_r2)"
   ]
  }
 ],
 "metadata": {
  "kernelspec": {
   "display_name": "Python 3",
   "language": "python",
   "name": "python3"
  },
  "language_info": {
   "codemirror_mode": {
    "name": "ipython",
    "version": 3
   },
   "file_extension": ".py",
   "mimetype": "text/x-python",
   "name": "python",
   "nbconvert_exporter": "python",
   "pygments_lexer": "ipython3",
   "version": "3.6.10"
  }
 },
 "nbformat": 4,
 "nbformat_minor": 4
}
